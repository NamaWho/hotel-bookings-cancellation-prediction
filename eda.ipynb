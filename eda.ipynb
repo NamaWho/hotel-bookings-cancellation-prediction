{
 "cells": [
  {
   "cell_type": "code",
   "execution_count": 3,
   "metadata": {},
   "outputs": [
    {
     "name": "stdout",
     "output_type": "stream",
     "text": [
      "Index(['ArrivalDateMonth', 'Meal', 'Country', 'MarketSegment',\n",
      "       'DistributionChannel', 'ReservedRoomType', 'AssignedRoomType',\n",
      "       'DepositType', 'Agent', 'Company', 'CustomerType', 'ReservationStatus',\n",
      "       'ReservationStatusDate', 'Hotel'],\n",
      "      dtype='object')\n"
     ]
    }
   ],
   "source": [
    "import pandas as pd\n",
    "import matplotlib.pyplot as plt\n",
    "import seaborn as sns\n",
    "import numpy as np\n",
    "import plotly.express as px\n",
    "\n",
    "from sklearn.model_selection import train_test_split, KFold, cross_validate, cross_val_score\n",
    "from sklearn.pipeline import Pipeline\n",
    "from sklearn.compose import ColumnTransformer\n",
    "from sklearn.preprocessing import LabelEncoder, OneHotEncoder, StandardScaler\n",
    "from sklearn.impute import SimpleImputer\n",
    "from sklearn.ensemble import RandomForestClassifier\n",
    "# from xgboost import XGBClassifier\n",
    "from sklearn.linear_model import LogisticRegression\n",
    "# from sklearn.tree import DecisionTreeClassifier\n",
    "from sklearn.metrics import accuracy_score, precision_score, recall_score, f1_score, confusion_matrix, ConfusionMatrixDisplay\n",
    "\n",
    "# Carica il dataset\n",
    "data_h1 = pd.read_csv('./dataset/H1.csv')\n",
    "data_h2 = pd.read_csv('./dataset/H2.csv')\n",
    "data_h1['Hotel'] = 'Resort Hotel'\n",
    "data_h2['Hotel'] = 'City Hotel'\n",
    "data = pd.concat([data_h1, data_h2], ignore_index=True)\n",
    "\n",
    "data.head()\n",
    "\n",
    "# print categorical columns\n",
    "categorical_columns = data.select_dtypes(include='object').columns\n",
    "print(categorical_columns)"
   ]
  },
  {
   "cell_type": "code",
   "execution_count": null,
   "metadata": {},
   "outputs": [],
   "source": [
    "# check for missing values\n",
    "data.isnull().sum()"
   ]
  },
  {
   "cell_type": "code",
   "execution_count": null,
   "metadata": {},
   "outputs": [],
   "source": [
    "nan_replacements = {\"children:\": 0.0,\"country\": \"Unknown\", \"agent\": 0, \"company\": 0}\n",
    "data_cln = data.fillna(nan_replacements)\n",
    "\n",
    "# \"meal\" contains values \"Undefined\", which is equal to SC.\n",
    "data_cln[\"meal\"] = data_cln[\"meal\"].replace(\"Undefined\", \"SC\")\n",
    "\n",
    "# Some rows contain entreis with 0 adults, 0 children and 0 babies.\n",
    "zero_guests = list(data_cln.loc[data_cln[\"adults\"]\n",
    "                   + data_cln[\"children\"]\n",
    "                   + data_cln[\"babies\"]==0].index)\n",
    "data_cln.drop(data_cln.index[zero_guests], inplace=True)\n",
    "\n",
    "data_cln.shape"
   ]
  },
  {
   "cell_type": "markdown",
   "metadata": {},
   "source": [
    "# 2. EDA"
   ]
  },
  {
   "cell_type": "code",
   "execution_count": null,
   "metadata": {},
   "outputs": [],
   "source": [
    "# show on map\n",
    "guest_map = px.choropleth(country_data,\n",
    "                    locations=country_data.index,\n",
    "                    color=country_data[\"Guests in %\"],\n",
    "                    hover_name=country_data.index,\n",
    "                    color_continuous_scale=px.colors.sequential.Plasma,\n",
    "                    title=\"Home country of guests\")\n",
    "guest_map.show()"
   ]
  },
  {
   "cell_type": "code",
   "execution_count": null,
   "metadata": {},
   "outputs": [],
   "source": [
    "# Counting adults and children as paying guests only, not babies.\n",
    "rh.loc[:, \"adr_pp\"] = rh[\"adr\"] / (rh[\"adults\"] + rh[\"children\"])\n",
    "ch.loc[:, \"adr_pp\"] = ch[\"adr\"] / (ch[\"adults\"] + ch[\"children\"])\n",
    "\n",
    "print(\"\"\"From all non-canceled bookings, across all room types and meals, the average prices are:\n",
    "Resort hotel: {:.2f} € per night and person.\n",
    "City hotel: {:.2f} € per night and person.\"\"\"\n",
    "      .format(rh[\"adr_pp\"].mean(), ch[\"adr_pp\"].mean()))"
   ]
  },
  {
   "cell_type": "code",
   "execution_count": null,
   "metadata": {},
   "outputs": [],
   "source": [
    "# normalize price per night (adr):\n",
    "data_cln[\"adr_pp\"] = data_cln[\"adr\"] / (data_cln[\"adults\"] + data_cln[\"children\"])\n",
    "full_data_guests = data_cln.loc[data_cln[\"is_canceled\"] == 0] # only actual gusts\n",
    "room_prices = full_data_guests[[\"hotel\", \"reserved_room_type\", \"adr_pp\"]].sort_values(\"reserved_room_type\")\n",
    "\n",
    "# boxplot:\n",
    "plt.figure(figsize=(12, 8))\n",
    "sns.boxplot(x=\"reserved_room_type\",\n",
    "            y=\"adr_pp\",\n",
    "            hue=\"hotel\",\n",
    "            data=room_prices,\n",
    "            hue_order=[\"City Hotel\", \"Resort Hotel\"],\n",
    "            fliersize=0)\n",
    "plt.title(\"Price of room types per night and person\", fontsize=16)\n",
    "plt.xlabel(\"Room type\", fontsize=16)\n",
    "plt.ylabel(\"Price [EUR]\", fontsize=16)\n",
    "plt.legend(loc=\"upper right\")\n",
    "plt.ylim(0, 160)\n",
    "plt.show()"
   ]
  },
  {
   "cell_type": "code",
   "execution_count": null,
   "metadata": {},
   "outputs": [],
   "source": [
    "# grab data:\n",
    "room_prices_mothly = full_data_guests[[\"hotel\", \"arrival_date_month\", \"adr_pp\"]].sort_values(\"arrival_date_month\")\n",
    "\n",
    "# order by month:\n",
    "ordered_months = [\"January\", \"February\", \"March\", \"April\", \"May\", \"June\",\n",
    "          \"July\", \"August\", \"September\", \"October\", \"November\", \"December\"]\n",
    "room_prices_mothly[\"arrival_date_month\"] = pd.Categorical(room_prices_mothly[\"arrival_date_month\"], categories=ordered_months, ordered=True)\n",
    "\n",
    "# barplot with standard deviation:\n",
    "plt.figure(figsize=(12, 8))\n",
    "sns.lineplot(x = \"arrival_date_month\", y=\"adr_pp\", hue=\"hotel\", data=room_prices_mothly,\n",
    "            hue_order = [\"City Hotel\", \"Resort Hotel\"], errorbar=\"sd\", size=\"hotel\", sizes=(2.5, 2.5))\n",
    "plt.title(\"Room price per night and person over the year\", fontsize=16)\n",
    "plt.xlabel(\"Month\", fontsize=16)\n",
    "plt.xticks(rotation=45)\n",
    "plt.ylabel(\"Price [EUR]\", fontsize=16)\n",
    "plt.show()"
   ]
  },
  {
   "cell_type": "code",
   "execution_count": null,
   "metadata": {},
   "outputs": [],
   "source": [
    "# Create a DataFrame with the relevant data:\n",
    "resort_guests_monthly = rh.groupby(\"arrival_date_month\")[\"hotel\"].count()\n",
    "city_guests_monthly = ch.groupby(\"arrival_date_month\")[\"hotel\"].count()\n",
    "\n",
    "resort_guest_data = pd.DataFrame({\"month\": list(resort_guests_monthly.index),\n",
    "                                  \"hotel\": \"Resort hotel\", \n",
    "                                  \"guests\": list(resort_guests_monthly.values)})\n",
    "\n",
    "city_guest_data = pd.DataFrame({\"month\": list(city_guests_monthly.index),\n",
    "                                \"hotel\": \"City hotel\", \n",
    "                                \"guests\": list(city_guests_monthly.values)})\n",
    "full_guest_data = pd.concat([resort_guest_data, city_guest_data], ignore_index=True)\n",
    "\n",
    "# Order by month:\n",
    "ordered_months = [\"January\", \"February\", \"March\", \"April\", \"May\", \"June\", \n",
    "                  \"July\", \"August\", \"September\", \"October\", \"November\", \"December\"]\n",
    "full_guest_data[\"month\"] = pd.Categorical(full_guest_data[\"month\"], categories=ordered_months, ordered=True)\n",
    "\n",
    "# Explicitly cast 'guests' to float before normalization\n",
    "full_guest_data[\"guests\"] = full_guest_data[\"guests\"].astype(float)\n",
    "\n",
    "# Normalize data:\n",
    "full_guest_data.loc[(full_guest_data[\"month\"] == \"July\") | (full_guest_data[\"month\"] == \"August\"),\n",
    "                    \"guests\"] /= 3\n",
    "full_guest_data.loc[~((full_guest_data[\"month\"] == \"July\") | (full_guest_data[\"month\"] == \"August\")),\n",
    "                    \"guests\"] /= 2\n",
    "\n",
    "# Show figure:\n",
    "plt.figure(figsize=(12, 8))\n",
    "sns.lineplot(x=\"month\", y=\"guests\", hue=\"hotel\", data=full_guest_data, \n",
    "             hue_order=[\"City hotel\", \"Resort hotel\"], size=\"hotel\", sizes=(2.5, 2.5))\n",
    "plt.title(\"Average number of hotel guests per month\", fontsize=16)\n",
    "plt.xlabel(\"Month\", fontsize=16)\n",
    "plt.xticks(rotation=45)\n",
    "plt.ylabel(\"Number of guests\", fontsize=16)\n",
    "plt.show()"
   ]
  },
  {
   "cell_type": "code",
   "execution_count": null,
   "metadata": {},
   "outputs": [],
   "source": [
    "# Create a DataFrame with the relevant data:\n",
    "rh.loc[:, \"total_nights\"] = rh[\"stays_in_weekend_nights\"] + rh[\"stays_in_week_nights\"]\n",
    "ch.loc[:, \"total_nights\"] = ch[\"stays_in_weekend_nights\"] + ch[\"stays_in_week_nights\"]\n",
    "\n",
    "num_nights_res = list(rh[\"total_nights\"].value_counts().index)\n",
    "num_bookings_res = list(rh[\"total_nights\"].value_counts())\n",
    "rel_bookings_res = rh[\"total_nights\"].value_counts() / sum(num_bookings_res) * 100  # convert to percent\n",
    "\n",
    "num_nights_cty = list(ch[\"total_nights\"].value_counts().index)\n",
    "num_bookings_cty = list(ch[\"total_nights\"].value_counts())\n",
    "rel_bookings_cty = ch[\"total_nights\"].value_counts() / sum(num_bookings_cty) * 100  # convert to percent\n",
    "\n",
    "res_nights = pd.DataFrame({\"hotel\": \"Resort hotel\",\n",
    "                           \"num_nights\": num_nights_res,\n",
    "                           \"rel_num_bookings\": rel_bookings_res})\n",
    "\n",
    "cty_nights = pd.DataFrame({\"hotel\": \"City hotel\",\n",
    "                           \"num_nights\": num_nights_cty,\n",
    "                           \"rel_num_bookings\": rel_bookings_cty})\n",
    "\n",
    "nights_data = pd.concat([res_nights, cty_nights], ignore_index=True)\n",
    "\n",
    "#show figure:\n",
    "plt.figure(figsize=(16, 8))\n",
    "sns.barplot(x = \"num_nights\", y = \"rel_num_bookings\", hue=\"hotel\", data=nights_data,\n",
    "            hue_order = [\"City hotel\", \"Resort hotel\"])\n",
    "plt.title(\"Length of stay\", fontsize=16)\n",
    "plt.xlabel(\"Number of nights\", fontsize=16)\n",
    "plt.ylabel(\"Guests [%]\", fontsize=16)\n",
    "plt.legend(loc=\"upper right\")\n",
    "plt.xlim(0,22)\n",
    "plt.show()"
   ]
  },
  {
   "cell_type": "code",
   "execution_count": null,
   "metadata": {},
   "outputs": [],
   "source": [
    "# total bookings per market segment (incl. canceled)\n",
    "segments= data_cln[\"market_segment\"].value_counts()\n",
    "\n",
    "# pie plot\n",
    "fig = px.pie(segments,\n",
    "             values=segments.values,\n",
    "             names=segments.index,\n",
    "             title=\"Bookings per market segment\",\n",
    "             template=\"seaborn\")\n",
    "fig.update_traces(rotation=-90, textinfo=\"percent+label\")\n",
    "fig.show()"
   ]
  },
  {
   "cell_type": "code",
   "execution_count": null,
   "metadata": {},
   "outputs": [],
   "source": [
    "avg_nights_res = sum(list((res_nights[\"num_nights\"] * (res_nights[\"rel_num_bookings\"]/100)).values))\n",
    "avg_nights_cty = sum(list((cty_nights[\"num_nights\"] * (cty_nights[\"rel_num_bookings\"]/100)).values))\n",
    "print(f\"On average, guests of the City hotel stay {avg_nights_cty:.2f} nights, and {cty_nights['num_nights'].max()} at maximum.\")\n",
    "print(f\"On average, guests of the Resort hotel stay {avg_nights_res:.2f} nights, and {res_nights['num_nights'].max()} at maximum.\")"
   ]
  },
  {
   "cell_type": "code",
   "execution_count": null,
   "metadata": {},
   "outputs": [],
   "source": [
    "# price per night (ADR) and person based on booking and room.\n",
    "# show figure:\n",
    "plt.figure(figsize=(12, 8))\n",
    "sns.barplot(x=\"market_segment\",\n",
    "            y=\"adr_pp\",\n",
    "            hue=\"reserved_room_type\",\n",
    "            data=data_cln,\n",
    "            errorbar=\"sd\",\n",
    "            err_kws={'linewidth': 1},\n",
    "            capsize=0.1)\n",
    "plt.title(\"ADR by market segment and room type\", fontsize=16)\n",
    "plt.xlabel(\"Market segment\", fontsize=16)\n",
    "plt.xticks(rotation=45)\n",
    "plt.ylabel(\"ADR per person [EUR]\", fontsize=16)\n",
    "plt.legend(loc=\"upper left\")\n",
    "plt.show()"
   ]
  },
  {
   "cell_type": "markdown",
   "metadata": {},
   "source": [
    "Why Airlines pays double price on average with respect to the other groups?"
   ]
  },
  {
   "cell_type": "code",
   "execution_count": null,
   "metadata": {},
   "outputs": [],
   "source": [
    "# Summarize Relevant data:\n",
    "Airline_data = data_cln.loc[data_cln[\"market_segment\"]== \"Aviation\"][[\"is_canceled\",\n",
    "                                                                                \"adults\",\n",
    "                                                                                \"lead_time\",\n",
    "                                                                                \"adr_pp\",]].describe()\n",
    "\n",
    "Non_Airline_data = data_cln.loc[data_cln[\"market_segment\"]!= \"Aviation\"][[\"is_canceled\",\n",
    "                                                                                    \"adults\",\n",
    "                                                                                    \"lead_time\",\n",
    "                                                                                    \"adr_pp\",]].describe()"
   ]
  },
  {
   "cell_type": "code",
   "execution_count": null,
   "metadata": {},
   "outputs": [],
   "source": [
    "Airline_data"
   ]
  },
  {
   "cell_type": "code",
   "execution_count": null,
   "metadata": {},
   "outputs": [],
   "source": [
    "Non_Airline_data"
   ]
  },
  {
   "cell_type": "markdown",
   "metadata": {},
   "source": [
    "Lead time for bookings from Aviation is very short: Mean 4 days vs. 104 days for other bookings.\n",
    "Airlines NEED a place for their crews to stay.\n",
    "Airline personel usually gets one room per person - more total rooms required compared to families."
   ]
  },
  {
   "cell_type": "markdown",
   "metadata": {},
   "source": [
    "**How many bookings were canceled?**"
   ]
  },
  {
   "cell_type": "code",
   "execution_count": null,
   "metadata": {},
   "outputs": [],
   "source": [
    "# absolute cancelations:\n",
    "total_cancelations = data_cln[\"is_canceled\"].sum()\n",
    "rh_cancelations = data_cln.loc[data_cln[\"hotel\"] == \"Resort Hotel\"][\"is_canceled\"].sum()\n",
    "ch_cancelations = data_cln.loc[data_cln[\"hotel\"] == \"City Hotel\"][\"is_canceled\"].sum()\n",
    "\n",
    "# as percent:\n",
    "rel_cancel = total_cancelations / data_cln.shape[0] * 100\n",
    "rh_rel_cancel = rh_cancelations / data_cln.loc[data_cln[\"hotel\"] == \"Resort Hotel\"].shape[0] * 100\n",
    "ch_rel_cancel = ch_cancelations / data_cln.loc[data_cln[\"hotel\"] == \"City Hotel\"].shape[0] * 100\n",
    "\n",
    "print(f\"Total bookings canceled: {total_cancelations:,} ({rel_cancel:.0f} %)\")\n",
    "print(f\"Resort hotel bookings canceled: {rh_cancelations:,} ({rh_rel_cancel:.0f} %)\")\n",
    "print(f\"City hotel bookings canceled: {ch_cancelations:,} ({ch_rel_cancel:.0f} %)\")"
   ]
  },
  {
   "cell_type": "markdown",
   "metadata": {},
   "source": [
    "**Which month have the highest number of cancelations?**"
   ]
  },
  {
   "cell_type": "code",
   "execution_count": null,
   "metadata": {},
   "outputs": [],
   "source": [
    "# Create a DateFrame with the relevant data:\n",
    "res_book_per_month = data_cln.loc[(data_cln[\"hotel\"] == \"Resort Hotel\")].groupby(\"arrival_date_month\")[\"hotel\"].count()\n",
    "res_cancel_per_month = data_cln.loc[(data_cln[\"hotel\"] == \"Resort Hotel\")].groupby(\"arrival_date_month\")[\"is_canceled\"].sum()\n",
    "\n",
    "cty_book_per_month = data_cln.loc[(data_cln[\"hotel\"] == \"City Hotel\")].groupby(\"arrival_date_month\")[\"hotel\"].count()\n",
    "cty_cancel_per_month = data_cln.loc[(data_cln[\"hotel\"] == \"City Hotel\")].groupby(\"arrival_date_month\")[\"is_canceled\"].sum()\n",
    "\n",
    "res_cancel_data = pd.DataFrame({\"Hotel\": \"Resort Hotel\",\n",
    "                                \"Month\": list(res_book_per_month.index),\n",
    "                                \"Bookings\": list(res_book_per_month.values),\n",
    "                                \"Cancelations\": list(res_cancel_per_month.values)})\n",
    "cty_cancel_data = pd.DataFrame({\"Hotel\": \"City Hotel\",\n",
    "                                \"Month\": list(cty_book_per_month.index),\n",
    "                                \"Bookings\": list(cty_book_per_month.values),\n",
    "                                \"Cancelations\": list(cty_cancel_per_month.values)})\n",
    "\n",
    "full_cancel_data = pd.concat([res_cancel_data, cty_cancel_data], ignore_index=True)\n",
    "full_cancel_data[\"cancel_percent\"] = full_cancel_data[\"Cancelations\"] / full_cancel_data[\"Bookings\"] * 100\n",
    "\n",
    "# order by month:\n",
    "ordered_months = [\"January\", \"February\", \"March\", \"April\", \"May\", \"June\", \n",
    "          \"July\", \"August\", \"September\", \"October\", \"November\", \"December\"]\n",
    "full_cancel_data[\"Month\"] = pd.Categorical(full_cancel_data[\"Month\"], categories=ordered_months, ordered=True)\n",
    "\n",
    "# show figure:\n",
    "plt.figure(figsize=(12, 8))\n",
    "sns.barplot(x = \"Month\", y = \"cancel_percent\" , hue=\"Hotel\",\n",
    "            hue_order = [\"City Hotel\", \"Resort Hotel\"], data=full_cancel_data)\n",
    "plt.title(\"Cancelations per month\", fontsize=16)\n",
    "plt.xlabel(\"Month\", fontsize=16)\n",
    "plt.xticks(rotation=45)\n",
    "plt.ylabel(\"Cancelations [%]\", fontsize=16)\n",
    "plt.legend(loc=\"upper right\")\n",
    "plt.show()"
   ]
  },
  {
   "cell_type": "markdown",
   "metadata": {},
   "source": [
    "For the City hotel the relative number of cancelations is around 40 % throughout the year.\n",
    "\n",
    "For the Resort hotel it is highest in the summer and lowest during the winter."
   ]
  },
  {
   "cell_type": "markdown",
   "metadata": {},
   "source": [
    "## Feature importance"
   ]
  },
  {
   "cell_type": "code",
   "execution_count": null,
   "metadata": {},
   "outputs": [
    {
     "data": {
      "text/plain": [
       "lead_time                         0.293123\n",
       "total_of_special_requests         0.234658\n",
       "required_car_parking_spaces       0.195498\n",
       "booking_changes                   0.144381\n",
       "previous_cancellations            0.110133\n",
       "is_repeated_guest                 0.084793\n",
       "agent                             0.083114\n",
       "adults                            0.060017\n",
       "previous_bookings_not_canceled    0.057358\n",
       "days_in_waiting_list              0.054186\n",
       "adr                               0.047557\n",
       "babies                            0.032491\n",
       "stays_in_week_nights              0.024765\n",
       "company                           0.020642\n",
       "arrival_date_year                 0.016660\n",
       "arrival_date_week_number          0.008148\n",
       "arrival_date_day_of_month         0.006130\n",
       "children                          0.005048\n",
       "stays_in_weekend_nights           0.001791\n",
       "Name: is_canceled, dtype: float64"
      ]
     },
     "metadata": {},
     "output_type": "display_data"
    }
   ],
   "source": [
    "# Select only numerical features\n",
    "numerical_data = data.select_dtypes(include=[np.number])\n",
    "\n",
    "# Compute the correlation matrix\n",
    "cancel_corr = numerical_data.corr()[\"is_canceled\"]\n",
    "\n",
    "# Sort the absolute values of the correlations in descending order, excluding the first element\n",
    "cancel_corr.abs().sort_values(ascending=False)[1:]"
   ]
  },
  {
   "cell_type": "markdown",
   "metadata": {},
   "source": [
    "From this list it is apparent that lead_time, total_of_special_requests, required_car_parking_spaces, booking_changes and previous_cancellations are the 5 most important numerical features.\n",
    "However, to predict whether or not a booking will be canceled, the number of booking changes is a possible source of leakage, because this information can change over time.\n",
    "I will also not include days_in_waiting_list and arrival_date_year.\n",
    "\n",
    "The most important feature to exclude is the \"reservation_status\":"
   ]
  },
  {
   "cell_type": "code",
   "execution_count": null,
   "metadata": {},
   "outputs": [],
   "source": [
    "data.groupby(\"is_canceled\")[\"reservation_status\"].value_counts()"
   ]
  },
  {
   "cell_type": "code",
   "execution_count": null,
   "metadata": {},
   "outputs": [],
   "source": [
    "# manually choose columns to include\n",
    "# some columns are excluded to make the model more general and to prevent leakage\n",
    "# (arrival_date_year, assigned_room_type, booking_changes, reservation_status, country,\n",
    "# days_in_waiting_list)\n",
    "# including the country would increase accuracy, but it may also make the model less general\n",
    "\n",
    "num_features = [\"lead_time\",\"arrival_date_week_number\",\"arrival_date_day_of_month\",\n",
    "                \"stays_in_weekend_nights\",\"stays_in_week_nights\",\"adults\",\"children\",\n",
    "                \"babies\",\"is_repeated_guest\", \"previous_cancellations\",\n",
    "                \"previous_bookings_not_canceled\",\"agent\",\"company\",\n",
    "                \"required_car_parking_spaces\", \"total_of_special_requests\", \"adr\"]\n",
    "\n",
    "cat_features = [\"hotel\",\"arrival_date_month\",\"meal\",\"market_segment\",\n",
    "                \"distribution_channel\",\"reserved_room_type\",\"deposit_type\",\"customer_type\"]\n",
    "\n",
    "# Separate features and predicted value\n",
    "features = num_features + cat_features\n",
    "X = data.drop([\"is_canceled\"], axis=1)[features]\n",
    "y = data[\"is_canceled\"]\n",
    "\n",
    "# preprocess numerical feats:\n",
    "# for most num cols, except the dates, 0 is the most logical choice as fill value\n",
    "# and here no dates are missing.\n",
    "num_transformer = SimpleImputer(strategy=\"constant\")\n",
    "\n",
    "# Preprocessing for categorical features:\n",
    "cat_transformer = Pipeline(steps=[\n",
    "    (\"imputer\", SimpleImputer(strategy=\"constant\", fill_value=\"Unknown\")),\n",
    "    (\"onehot\", OneHotEncoder(handle_unknown='ignore'))])\n",
    "\n",
    "# Bundle preprocessing for numerical and categorical features:\n",
    "preprocessor = ColumnTransformer(transformers=[(\"num\", num_transformer, num_features),\n",
    "                                               (\"cat\", cat_transformer, cat_features)])"
   ]
  },
  {
   "cell_type": "markdown",
   "metadata": {},
   "source": [
    "# 3. Models"
   ]
  },
  {
   "cell_type": "code",
   "execution_count": null,
   "metadata": {},
   "outputs": [],
   "source": [
    "# define models to test:\n",
    "base_models = [(\"DT_model\", DecisionTreeClassifier(random_state=42)),\n",
    "               (\"RF_model\", RandomForestClassifier(random_state=42,n_jobs=-1)),\n",
    "               (\"LR_model\", LogisticRegression(random_state=42,n_jobs=-1)),\n",
    "               (\"XGB_model\", XGBClassifier(random_state=42, n_jobs=-1))]\n",
    "\n",
    "# split data into 'kfolds' parts for cross validation,\n",
    "# use shuffle to ensure random distribution of data:\n",
    "kfolds = 4 # 4 = 75% train, 25% validation\n",
    "split = KFold(n_splits=kfolds, shuffle=True, random_state=42)\n",
    "\n",
    "# Preprocessing, fitting, making predictions and scoring for every model:\n",
    "for name, model in base_models:\n",
    "    # pack preprocessing of data and the model in a pipeline:\n",
    "    model_steps = Pipeline(steps=[('preprocessor', preprocessor),\n",
    "                              ('model', model)])\n",
    "    \n",
    "    # get cross validation score for each model:\n",
    "    cv_results = cross_val_score(model_steps, \n",
    "                                 X, y, \n",
    "                                 cv=split,\n",
    "                                 scoring=\"accuracy\",\n",
    "                                 n_jobs=-1)\n",
    "    # output:\n",
    "    min_score = round(min(cv_results), 4)\n",
    "    max_score = round(max(cv_results), 4)\n",
    "    mean_score = round(np.mean(cv_results), 4)\n",
    "    std_dev = round(np.std(cv_results), 4)\n",
    "    print(f\"{name} cross validation accuacy score: {mean_score} +/- {std_dev} (std) min: {min_score}, max: {max_score}\")\n"
   ]
  },
  {
   "cell_type": "markdown",
   "metadata": {},
   "source": [
    "## Hyperparameters Optimization"
   ]
  },
  {
   "cell_type": "code",
   "execution_count": null,
   "metadata": {},
   "outputs": [],
   "source": [
    "# Enhanced RF model with the best parameters I found:\n",
    "rf_model_enh = RandomForestClassifier(n_estimators=160,\n",
    "                               max_features=0.4,\n",
    "                               min_samples_split=2,\n",
    "                               n_jobs=-1,\n",
    "                               random_state=0)\n",
    "\n",
    "split = KFold(n_splits=kfolds, shuffle=True, random_state=42)\n",
    "model_pipe = Pipeline(steps=[('preprocessor', preprocessor),\n",
    "                              ('model', rf_model_enh)])\n",
    "cv_results = cross_val_score(model_pipe, \n",
    "                                 X, y, \n",
    "                                 cv=split,\n",
    "                                 scoring=\"accuracy\",\n",
    "                                 n_jobs=-1)\n",
    "# output:\n",
    "min_score = round(min(cv_results), 4)\n",
    "max_score = round(max(cv_results), 4)\n",
    "mean_score = round(np.mean(cv_results), 4)\n",
    "std_dev = round(np.std(cv_results), 4)\n",
    "print(f\"Enhanced RF model cross validation accuracy score: {mean_score} +/- {std_dev} (std) min: {min_score}, max: {max_score}\")"
   ]
  },
  {
   "cell_type": "markdown",
   "metadata": {},
   "source": [
    "# Feature Importance"
   ]
  },
  {
   "cell_type": "code",
   "execution_count": null,
   "metadata": {},
   "outputs": [],
   "source": [
    "# fit model(pipeline) so values can be accessed:\n",
    "model_pipe.fit(X,y)\n",
    "\n",
    "# Get feature importances\n",
    "feature_importances = model_pipe.named_steps['model'].feature_importances_\n",
    "\n",
    "# Get feature names\n",
    "onehot_columns = list(model_pipe.named_steps['preprocessor'].\n",
    "                      named_transformers_['cat'].\n",
    "                      named_steps['onehot'].\n",
    "                      get_feature_names_out(input_features=cat_features))\n",
    "\n",
    "# Combine numeric and onehot encoded feature names\n",
    "feat_imp_list = num_features + onehot_columns\n",
    "\n",
    "# Create a DataFrame for visualization\n",
    "feat_imp_df = pd.DataFrame({'Feature': feat_imp_list, 'Importance': feature_importances})\n",
    "\n",
    "# Sort the DataFrame by importance\n",
    "feat_imp_df = feat_imp_df.sort_values(by='Importance', ascending=False)\n",
    "\n",
    "# Plot feature importances\n",
    "plt.figure(figsize=(10, 8))\n",
    "sns.barplot(x='Importance', y='Feature', data=feat_imp_df)\n",
    "plt.title('Feature Importances')\n",
    "plt.show()"
   ]
  },
  {
   "cell_type": "code",
   "execution_count": null,
   "metadata": {},
   "outputs": [],
   "source": [
    "# group data for lead_time:\n",
    "lead_cancel_data = data_cln.groupby(\"lead_time\")[\"is_canceled\"].describe()\n",
    "# use only lead_times wih more than 10 bookings for graph:\n",
    "lead_cancel_data_10 = lead_cancel_data.loc[lead_cancel_data[\"count\"] >= 10]\n",
    "\n",
    "#show figure:\n",
    "plt.figure(figsize=(12, 8))\n",
    "sns.regplot(x=lead_cancel_data_10.index, y=lead_cancel_data_10[\"mean\"].values * 100)\n",
    "plt.title(\"Effect of lead time on cancelation\", fontsize=16)\n",
    "plt.xlabel(\"Lead time\", fontsize=16)\n",
    "plt.ylabel(\"Cancelations [%]\", fontsize=16)\n",
    "# plt.xlim(0,365)\n",
    "plt.show()"
   ]
  },
  {
   "cell_type": "code",
   "execution_count": null,
   "metadata": {},
   "outputs": [],
   "source": [
    "# group data for deposit_type:\n",
    "deposit_cancel_data = data_cln.groupby(\"deposit_type\")[\"is_canceled\"].describe()\n",
    "\n",
    "#show figure:\n",
    "plt.figure(figsize=(12, 8))\n",
    "sns.barplot(x=deposit_cancel_data.index, y=deposit_cancel_data[\"mean\"] * 100)\n",
    "plt.title(\"Effect of deposit_type on cancelation\", fontsize=16)\n",
    "plt.xlabel(\"Deposit type\", fontsize=16)\n",
    "plt.ylabel(\"Cancelations [%]\", fontsize=16)\n",
    "plt.show()"
   ]
  },
  {
   "cell_type": "markdown",
   "metadata": {},
   "source": [
    "As Susmit Vengurlekar already pointed out in the Discussion section of the dataset, the deposit_type 'Non Refund' and the 'is_canceled' column are correlated in a counter-intuitive way.\n",
    "Over 99 % of people who paid the entire amount upfront canceled. This raises the question if there is something wrong with the data (or the description).\n",
    "What else stands out for Non Refund deposits?\n",
    "Here is a table of all mean values of the data, grouped by deposit type:"
   ]
  },
  {
   "cell_type": "code",
   "execution_count": null,
   "metadata": {},
   "outputs": [],
   "source": [
    "deposit_mean_data = data_cln.groupby(\"deposit_type\")[num_features].mean()\n",
    "deposit_mean_data"
   ]
  },
  {
   "cell_type": "markdown",
   "metadata": {},
   "source": [
    "Comparing the mean values for Non refund to No Deposit shows the following:\n",
    "\n",
    "- Non Refund deposits are characterized by > 2x longer lead_time\n",
    "- is_repeated_guest is ~ 1/10th\n",
    "- previous_cancellations is 10x higher\n",
    "- previous_bookings_not_canceled is 1/15th\n",
    "- required_car_parking_spaces is almost zero\n",
    "- special requests are very rare\n",
    "\n",
    "Based on these findings it seems that especially people who have not previosly visited one of the hotels book, pay and cancel repeatedly... this is strange!\n",
    "\n",
    "To adress this issue, I will make a model without this feature below."
   ]
  },
  {
   "cell_type": "code",
   "execution_count": null,
   "metadata": {},
   "outputs": [],
   "source": [
    "# group data for adr:\n",
    "adr_cancel_data = data_cln.groupby(\"adr\")[\"is_canceled\"].describe()\n",
    "#show figure:\n",
    "plt.figure(figsize=(12, 8))\n",
    "sns.regplot(x=adr_cancel_data.index, y=adr_cancel_data[\"mean\"].values * 100)\n",
    "plt.title(\"Effect of ADR on cancelation\", fontsize=16)\n",
    "plt.xlabel(\"ADR\", fontsize=16)\n",
    "plt.ylabel(\"Cancelations [%]\", fontsize=16)\n",
    "plt.xlim(0,400)\n",
    "plt.ylim(0,100)\n",
    "plt.show()\n"
   ]
  },
  {
   "cell_type": "code",
   "execution_count": null,
   "metadata": {},
   "outputs": [],
   "source": [
    "# After cleaning, separate Resort and City hotel\n",
    "# To know the acutal visitor numbers, only bookings that were not canceled are included.\n",
    "rh = data_cln.loc[(data_cln[\"hotel\"] == \"Resort Hotel\") & (data_cln[\"is_canceled\"] == 0)]\n",
    "ch = data_cln.loc[(data_cln[\"hotel\"] == \"City Hotel\") & (data_cln[\"is_canceled\"] == 0)]"
   ]
  },
  {
   "cell_type": "code",
   "execution_count": null,
   "metadata": {},
   "outputs": [
    {
     "ename": "NameError",
     "evalue": "name 'pd' is not defined",
     "output_type": "error",
     "traceback": [
      "\u001b[0;31m---------------------------------------------------------------------------\u001b[0m\n",
      "\u001b[0;31mNameError\u001b[0m                                 Traceback (most recent call last)\n",
      "Cell \u001b[0;32mIn[1], line 2\u001b[0m\n",
      "\u001b[1;32m      1\u001b[0m \u001b[38;5;66;03m# get number of acutal guests by country\u001b[39;00m\n",
      "\u001b[0;32m----> 2\u001b[0m country_data \u001b[38;5;241m=\u001b[39m \u001b[43mpd\u001b[49m\u001b[38;5;241m.\u001b[39mDataFrame(data_cln\u001b[38;5;241m.\u001b[39mloc[data_cln[\u001b[38;5;124m\"\u001b[39m\u001b[38;5;124mis_canceled\u001b[39m\u001b[38;5;124m\"\u001b[39m] \u001b[38;5;241m==\u001b[39m \u001b[38;5;241m0\u001b[39m][\u001b[38;5;124m\"\u001b[39m\u001b[38;5;124mcountry\u001b[39m\u001b[38;5;124m\"\u001b[39m]\u001b[38;5;241m.\u001b[39mvalue_counts())\n",
      "\u001b[1;32m      3\u001b[0m country_data\u001b[38;5;241m.\u001b[39mcolumns \u001b[38;5;241m=\u001b[39m [\u001b[38;5;124m\"\u001b[39m\u001b[38;5;124mNumber of Guests\u001b[39m\u001b[38;5;124m\"\u001b[39m]  \u001b[38;5;66;03m# Rename the column\u001b[39;00m\n",
      "\u001b[1;32m      4\u001b[0m total_guests \u001b[38;5;241m=\u001b[39m country_data[\u001b[38;5;124m\"\u001b[39m\u001b[38;5;124mNumber of Guests\u001b[39m\u001b[38;5;124m\"\u001b[39m]\u001b[38;5;241m.\u001b[39msum()\n",
      "\n",
      "\u001b[0;31mNameError\u001b[0m: name 'pd' is not defined"
     ]
    }
   ],
   "source": [
    "# get number of acutal guests by country\n",
    "country_data = pd.DataFrame(data_cln.loc[data_cln[\"is_canceled\"] == 0][\"country\"].value_counts())\n",
    "country_data.columns = [\"Number of Guests\"]  # Rename the column\n",
    "total_guests = country_data[\"Number of Guests\"].sum()\n",
    "country_data[\"Guests in %\"] = round(country_data[\"Number of Guests\"] / total_guests * 100, 2)\n",
    "country_data[\"country\"] = country_data.index\n",
    "#country_data.loc[country_data[\"Guests in %\"] < 2, \"country\"] = \"Other\"\n",
    "\n",
    "# pie plot\n",
    "fig = px.pie(country_data,\n",
    "             values=\"Number of Guests\",\n",
    "             names=\"country\",\n",
    "             title=\"Home country of guests\",\n",
    "             template=\"seaborn\")\n",
    "fig.update_traces(textposition=\"inside\", textinfo=\"value+percent+label\")\n",
    "fig.show()"
   ]
  }
 ],
 "metadata": {
  "kernelspec": {
   "display_name": "myenv",
   "language": "python",
   "name": "python3"
  },
  "language_info": {
   "codemirror_mode": {
    "name": "ipython",
    "version": 3
   },
   "file_extension": ".py",
   "mimetype": "text/x-python",
   "name": "python",
   "nbconvert_exporter": "python",
   "pygments_lexer": "ipython3",
   "version": "3.12.2"
  }
 },
 "nbformat": 4,
 "nbformat_minor": 2
}
